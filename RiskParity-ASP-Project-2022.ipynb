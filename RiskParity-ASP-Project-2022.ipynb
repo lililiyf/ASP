{
 "cells": [
  {
   "cell_type": "markdown",
   "id": "7d871529",
   "metadata": {},
   "source": [
    "# Least-squares approach to risk parity\n",
    "Bai X, Scheinberg K, Tutuncu R (2016) Least-squares approach to risk parity in portfolio selection. Quantitative Finance 16:357–376."
   ]
  },
  {
   "cell_type": "markdown",
   "id": "d7d7f06a",
   "metadata": {},
   "source": [
    "### 2.3 Risk parity problem: Least-squares model with general bounds and fixed theta\n",
    "\n",
    "Implement function 16 to find weight of asset with the general bound [a,b]\n",
    "\n",
    "#### Function(16)：\n",
    "\n",
    "$$\\min_{x}{\\sum_{i=1,j=1}^n (x_i(\\sum x)_i-x_j(\\sum x)_j)^2}$$\n",
    "\n",
    "s.t.\n",
    "$$a_i\\leq x_i\\leq b_i $$\n",
    "\n",
    "$$\\sum_{i=1}^n x_i=1$$"
   ]
  },
  {
   "cell_type": "markdown",
   "id": "8ff91d53",
   "metadata": {
    "pycharm": {
     "name": "#%% md\n"
    }
   },
   "source": [
    "### 2.3 Risk parity problem: Least-squares model with general bounds and variable theta\n",
    "Implement function 17 to find weight of asset with the general bound [a,b]\n",
    "\n",
    "#### Function(17)：\n",
    "\n",
    "$$\\min_{x,\\theta}{\\sum_{i=1}^n (x_i(\\sum x)_i-\\theta)^2}$$\n",
    "\n",
    "s.t.\n",
    "$$a_i\\leq x_i\\leq b_i $$\n",
    "\n",
    "$$\\sum_{i=1}^n x_i=1$$"
   ]
  },
  {
   "cell_type": "markdown",
   "id": "ff6e007e",
   "metadata": {},
   "source": [
    "### 4.1 Extended least-squares models: Minimum variance with risk parity\n",
    "\n",
    "Implement function 28 to find the solution with minimum variance\n",
    "\n",
    "#### Function(28):\n",
    "\n",
    "$$\\min_{x,\\theta}{\\sum_{i=1}^n (x_i(\\sum x)_i-\\theta)^2+\\rho x^\\mathsf{T} \\sum x}$$\n",
    "\n",
    "s.t.\n",
    "$$a_i\\leq x_i\\leq b_i $$\n",
    "\n",
    "$$\\sum_{i=1}^n x_i=1$$\n",
    "\n",
    "#### Algorithm 1: Sequential min-variance risk parity algorithm\n",
    "1. Choose $\\rho^0$ > 0, β ∈ (0, 1), ε > 0 and $x^0$;\n",
    "2. for k = 0, 1,...\n",
    "\n",
    "    If  $\\rho^k$ ≥ ε, then find $x^{k+1}$ that solves (28) with $\\rho$ = $\\rho^k$\n",
    "using $x^k$ as a starting point.\n",
    "\n",
    "      Then set $\\rho$ = $\\rho^k$$\\rho^{k+1}$ :=  $\\rho^k$ β, CONTINUE.\n",
    "\n",
    "    Else, find $x^{k+1}$ that solves (28) ρ = 0 using $x^k$ as a\n",
    "starting point. EXIT."
   ]
  },
  {
   "cell_type": "markdown",
   "id": "15a24ec9",
   "metadata": {},
   "source": [
    "## Implementation: RiskParity2"
   ]
  },
  {
   "cell_type": "markdown",
   "id": "4738dce0",
   "metadata": {},
   "source": [
    "![jupyter](./framework.jpg)"
   ]
  },
  {
   "cell_type": "markdown",
   "id": "caeca7e6",
   "metadata": {},
   "source": [
    "## Examples"
   ]
  },
  {
   "cell_type": "code",
   "execution_count": 1,
   "id": "5bac1b69",
   "metadata": {
    "pycharm": {
     "name": "#%%\n"
    }
   },
   "outputs": [],
   "source": [
    "import sys\n",
    "import numpy as np\n",
    "sys.path.insert(sys.path.index('')+1, '/Users/liyafen/Documents/GitHub/pyfeng')\n",
    "import pyfeng as pf\n",
    "import pyfeng.ex as pfex\n",
    "import warnings\n",
    "warnings.filterwarnings(\"ignore\")"
   ]
  },
  {
   "cell_type": "code",
   "execution_count": 2,
   "id": "9666ac38",
   "metadata": {},
   "outputs": [],
   "source": [
    "cov = np.array([\n",
    "        [94.868, 33.750, 12.325, -1.178, 8.778],\n",
    "        [33.750, 445.642, 98.955, -7.901, 84.954],\n",
    "        [12.325, 98.955, 117.265, 0.503, 45.184],\n",
    "        [-1.178, -7.901, 0.503, 5.460, 1.057],\n",
    "        [8.778, 84.954, 45.184, 1.057, 34.126]\n",
    "    ]) / 10000\n",
    "m = pfex.RiskParity2(cov=cov)"
   ]
  },
  {
   "cell_type": "markdown",
   "id": "67870fe0",
   "metadata": {},
   "source": [
    "2.3 Risk parity problem: Least-squares model with general bounds and fixed theta"
   ]
  },
  {
   "cell_type": "code",
   "execution_count": 3,
   "id": "ec7a8fc4",
   "metadata": {},
   "outputs": [
    {
     "name": "stdout",
     "output_type": "stream",
     "text": [
      "[0.12450587 0.04666161 0.08328325 0.61329749 0.13225179]\n"
     ]
    }
   ],
   "source": [
    "#paper result:[0.125; 0.047; 0.083; 0.613; 0.132] \n",
    "weight = m.general_risk_parity_with_fixed_theta(a=-1,b=2)\n",
    "print(weight)"
   ]
  },
  {
   "cell_type": "markdown",
   "id": "546c796e",
   "metadata": {},
   "source": [
    "2.3 Risk parity problem: Least-squares model with general bounds and variable theta"
   ]
  },
  {
   "cell_type": "code",
   "execution_count": 4,
   "id": "de6fb4ce",
   "metadata": {},
   "outputs": [
    {
     "name": "stdout",
     "output_type": "stream",
     "text": [
      "[0.20003216 0.19990448 0.20002062 0.20001948 0.20002326]\n",
      "[0.20003216 0.19990448 0.20002062 0.20001948 0.20002326]\n"
     ]
    }
   ],
   "source": [
    "# With variable theta and general bounds, there will be multiple solutions for the riskparity problem.\n",
    "# Results of optimization by from scipy.optimize import minimize is not reliable. \n",
    "# That's why we need Algorithm1 in 4.1.\n",
    "weight = m.general_risk_parity_with_variable_theta(a=-1,b=2)\n",
    "print(weight)\n",
    "weight = m.general_risk_parity_with_variable_theta(a=0.05,b=0.35)\n",
    "print(weight)"
   ]
  },
  {
   "cell_type": "markdown",
   "id": "b507d692",
   "metadata": {},
   "source": [
    "4.1 Extended least-squares models: Minimum variance with risk parity"
   ]
  },
  {
   "cell_type": "code",
   "execution_count": 5,
   "id": "190d609d",
   "metadata": {},
   "outputs": [
    {
     "name": "stdout",
     "output_type": "stream",
     "text": [
      "[5.02145670e-02 6.43437760e-03 3.98107614e-08 8.61788507e-01\n",
      " 8.15625088e-02]\n"
     ]
    }
   ],
   "source": [
    "#paper result: [0.050; 0.006; 0.000; 0.862; 0.082] \n",
    "weight = m.minimum_variance_risk_parity_extended_least_square(rho=1000, beta=0.01, tol=1e-6, itreation_max=100,a=0, b=1)\n",
    "print(weight)"
   ]
  },
  {
   "cell_type": "code",
   "execution_count": 6,
   "id": "0964b732",
   "metadata": {},
   "outputs": [
    {
     "name": "stdout",
     "output_type": "stream",
     "text": [
      "[0.19999981 0.05       0.05000133 0.35       0.34999885]\n"
     ]
    }
   ],
   "source": [
    "#paper result: [0.200; 0.050; 0.050; 0.350; 0.350] \n",
    "weight = m.minimum_variance_risk_parity_extended_least_square(rho=1000, beta=0.01, tol=1e-6, itreation_max=100,a=0.05, b=0.35)\n",
    "print(weight)"
   ]
  }
 ],
 "metadata": {
  "kernelspec": {
   "display_name": "quant",
   "language": "python",
   "name": "quant"
  },
  "language_info": {
   "codemirror_mode": {
    "name": "ipython",
    "version": 3
   },
   "file_extension": ".py",
   "mimetype": "text/x-python",
   "name": "python",
   "nbconvert_exporter": "python",
   "pygments_lexer": "ipython3",
   "version": "3.8.2"
  }
 },
 "nbformat": 4,
 "nbformat_minor": 5
}
