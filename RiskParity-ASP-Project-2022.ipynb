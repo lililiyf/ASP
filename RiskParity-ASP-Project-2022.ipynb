{
 "cells": [
  {
   "cell_type": "code",
   "execution_count": 16,
   "id": "1d5bf19e",
   "metadata": {},
   "outputs": [],
   "source": [
    "import sys\n",
    "import numpy as np\n",
    "#sys.path.insert(sys.path.index('')+1, 'D:/Github/pyfeng')\n",
    "#import pyfeng as pf\n",
    "#import pyfeng.ex as pfex\n",
    "sys.path.insert(sys.path.index('')+1, '/Users/liyafen/Documents/GitHub')\n",
    "import pyfeng as pf\n",
    "import pyfeng.ex as pfex"
   ]
  },
  {
   "cell_type": "code",
   "execution_count": 17,
   "id": "1b447597",
   "metadata": {},
   "outputs": [
    {
     "data": {
      "text/plain": [
       "['/Users/liyafen/Documents/GitHub/PyFENG/pyfeng',\n",
       " '/Users/liyafen/Documents/GitHub/PyFENG/pyfeng',\n",
       " '/Users/liyafen/Documents/project/asp',\n",
       " '/Users/liyafen/opt/anaconda3/envs/quant/lib/python38.zip',\n",
       " '/Users/liyafen/opt/anaconda3/envs/quant/lib/python3.8',\n",
       " '/Users/liyafen/opt/anaconda3/envs/quant/lib/python3.8/lib-dynload',\n",
       " '',\n",
       " '/Users/liyafen/Documents/GitHub',\n",
       " '/Users/liyafen/Documents/GitHub/PyFENG',\n",
       " '/Users/liyafen/Documents/GitHub/PyFENG',\n",
       " '/Users/liyafen/Documents/GitHub/PyFENG/pyfeng',\n",
       " '/Users/liyafen/opt/anaconda3/envs/quant/lib/python3.8/site-packages',\n",
       " '/Users/liyafen/opt/anaconda3/envs/quant/lib/python3.8/site-packages/jqdatasdk-1.8.11-py3.8.egg',\n",
       " '/Users/liyafen/opt/anaconda3/envs/quant/lib/python3.8/site-packages/IPython/extensions',\n",
       " '/Users/liyafen/.ipython']"
      ]
     },
     "execution_count": 17,
     "metadata": {},
     "output_type": "execute_result"
    }
   ],
   "source": [
    "sys.path"
   ]
  },
  {
   "cell_type": "code",
   "execution_count": 18,
   "id": "c20b383d",
   "metadata": {},
   "outputs": [
    {
     "data": {
      "text/plain": [
       "<module 'pyfeng' from '/Users/liyafen/opt/anaconda3/envs/quant/lib/python3.8/site-packages/pyfeng/__init__.py'>"
      ]
     },
     "execution_count": 18,
     "metadata": {},
     "output_type": "execute_result"
    }
   ],
   "source": [
    "pf"
   ]
  },
  {
   "cell_type": "code",
   "execution_count": 10,
   "id": "84fadea0",
   "metadata": {},
   "outputs": [],
   "source": [
    "from assetalloc_2 import RiskParity2"
   ]
  },
  {
   "cell_type": "code",
   "execution_count": 13,
   "id": "2553e047",
   "metadata": {},
   "outputs": [],
   "source": [
    "cov = np.array([\n",
    "        [94.868, 33.750, 12.325, -1.178, 8.778],\n",
    "        [33.750, 445.642, 98.955, -7.901, 84.954],\n",
    "        [12.325, 98.955, 117.265, 0.503, 45.184],\n",
    "        [-1.178, -7.901, 0.503, 5.460, 1.057],\n",
    "        [8.778, 84.954, 45.184, 1.057, 34.126]\n",
    "    ]) / 10000"
   ]
  },
  {
   "cell_type": "code",
   "execution_count": 14,
   "id": "b6f4973a",
   "metadata": {},
   "outputs": [
    {
     "name": "stdout",
     "output_type": "stream",
     "text": [
      "[ 0.05027209  0.00553736 -0.01230498  0.85650904  0.09998649]\n"
     ]
    }
   ],
   "source": [
    "m = RiskParity2(cov=cov)\n",
    "weight = m.minimum_variance_weight_extended_least_square(rho=1000, beta=0.01, tol=1e-6, itreation_max=100,a=-1,b=2)\n",
    "print(weight)\n",
    "#[ 0.05027209  0.00553736 -0.01230498  0.85650904  0.09998649]"
   ]
  },
  {
   "cell_type": "code",
   "execution_count": 15,
   "id": "1f6d4042",
   "metadata": {},
   "outputs": [
    {
     "name": "stdout",
     "output_type": "stream",
     "text": [
      "[ 0.53233682  0.51447136 -0.04680817]\n"
     ]
    }
   ],
   "source": [
    "cov = np.array([\n",
    "        [1,-0.9,0.6],\n",
    "        [-0.9,1.0,-0.2],\n",
    "        [0.6,-0.2,4.0]\n",
    "    ])\n",
    "\n",
    "m = RiskParity2(cov=cov)\n",
    "weight = m.minimum_variance_weight_extended_least_square(rho=1000, beta=0.01, tol=1e-6, itreation_max=100, a=-1,\n",
    "                                                             b=2)\n",
    "print(weight)\n",
    "#[ 0.53233682  0.51447136 -0.04680817]"
   ]
  }
 ],
 "metadata": {
  "kernelspec": {
   "display_name": "quant",
   "language": "python",
   "name": "quant"
  },
  "language_info": {
   "codemirror_mode": {
    "name": "ipython",
    "version": 3
   },
   "file_extension": ".py",
   "mimetype": "text/x-python",
   "name": "python",
   "nbconvert_exporter": "python",
   "pygments_lexer": "ipython3",
   "version": "3.8.2"
  }
 },
 "nbformat": 4,
 "nbformat_minor": 5
}
