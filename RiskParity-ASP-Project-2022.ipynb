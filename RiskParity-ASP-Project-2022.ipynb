{
 "cells": [
  {
   "cell_type": "code",
   "execution_count": 5,
   "id": "91cd4d99",
   "metadata": {},
   "outputs": [],
   "source": [
    "import sys\n",
    "import numpy as np\n",
    "sys.path.insert(sys.path.index('')+1, '/Users/liyafen/Documents/GitHub/pyfeng')\n",
    "import pyfeng as pf\n",
    "import pyfeng.ex as pfex"
   ]
  },
  {
   "cell_type": "code",
   "execution_count": 6,
   "id": "df1737a2",
   "metadata": {},
   "outputs": [
    {
     "data": {
      "text/plain": [
       "<module 'pyfeng' from '/Users/liyafen/Documents/GitHub/pyfeng/pyfeng/__init__.py'>"
      ]
     },
     "execution_count": 6,
     "metadata": {},
     "output_type": "execute_result"
    }
   ],
   "source": [
    "pf"
   ]
  },
  {
   "cell_type": "markdown",
   "id": "c06ab465",
   "metadata": {},
   "source": [
    "# Example 1"
   ]
  },
  {
   "cell_type": "code",
   "execution_count": 7,
   "id": "0b9976b1",
   "metadata": {},
   "outputs": [],
   "source": [
    "cov = np.array([\n",
    "        [94.868, 33.750, 12.325, -1.178, 8.778],\n",
    "        [33.750, 445.642, 98.955, -7.901, 84.954],\n",
    "        [12.325, 98.955, 117.265, 0.503, 45.184],\n",
    "        [-1.178, -7.901, 0.503, 5.460, 1.057],\n",
    "        [8.778, 84.954, 45.184, 1.057, 34.126]\n",
    "    ]) / 10000\n",
    "m = pfex.RiskParity2(cov=cov)"
   ]
  },
  {
   "cell_type": "code",
   "execution_count": 8,
   "id": "f408f224",
   "metadata": {},
   "outputs": [
    {
     "name": "stdout",
     "output_type": "stream",
     "text": [
      "[0.12450587 0.04666161 0.08328325 0.61329749 0.13225179]\n"
     ]
    }
   ],
   "source": [
    "weight = m.general_risk_parity_with_fixed_theta()\n",
    "print(weight)\n",
    "# [0.12450587 0.04666161 0.08328325 0.61329749 0.13225179]"
   ]
  },
  {
   "cell_type": "code",
   "execution_count": 9,
   "id": "e71d1d4c",
   "metadata": {},
   "outputs": [
    {
     "name": "stdout",
     "output_type": "stream",
     "text": [
      "[0.20003216 0.19990448 0.20002062 0.20001948 0.20002326]\n"
     ]
    }
   ],
   "source": [
    "weight = m.general_risk_parity_with_variable_theta()\n",
    "print(weight)\n",
    "# [0.20003216 0.19990448 0.20002062 0.20001948 0.20002326]"
   ]
  },
  {
   "cell_type": "code",
   "execution_count": 11,
   "id": "c3096b9e",
   "metadata": {},
   "outputs": [
    {
     "name": "stdout",
     "output_type": "stream",
     "text": [
      "[ 0.05027209  0.00553736 -0.01230498  0.85650904  0.09998649]\n"
     ]
    }
   ],
   "source": [
    "weight = m.minimum_variance_risk_parity_extended_least_square(rho=1000, beta=0.01, tol=1e-6, itreation_max=100,a=-1,b=2)\n",
    "print(weight)\n",
    "#[ 0.05027209  0.00553736 -0.01230498  0.85650904  0.09998649]"
   ]
  },
  {
   "cell_type": "markdown",
   "id": "49807056",
   "metadata": {},
   "source": [
    "# Example 2"
   ]
  },
  {
   "cell_type": "code",
   "execution_count": 12,
   "id": "69635b06",
   "metadata": {},
   "outputs": [],
   "source": [
    "cov = np.array([\n",
    "        [1,-0.9,0.6],\n",
    "        [-0.9,1.0,-0.2],\n",
    "        [0.6,-0.2,4.0]\n",
    "    ])\n",
    "\n",
    "m = pfex.RiskParity2(cov=cov)"
   ]
  },
  {
   "cell_type": "code",
   "execution_count": 14,
   "id": "8227df82",
   "metadata": {},
   "outputs": [
    {
     "name": "stdout",
     "output_type": "stream",
     "text": [
      "[0.45520246 0.4805526  0.06424494]\n"
     ]
    }
   ],
   "source": [
    "weight = m.general_risk_parity_with_fixed_theta(a=-1,b=2)\n",
    "print(weight)\n",
    "# [0.45520246 0.4805526  0.06424494]"
   ]
  },
  {
   "cell_type": "code",
   "execution_count": 15,
   "id": "d299e122",
   "metadata": {},
   "outputs": [
    {
     "name": "stdout",
     "output_type": "stream",
     "text": [
      "[0.26339982 0.19102125 0.54557893]\n"
     ]
    }
   ],
   "source": [
    "weight = m.general_risk_parity_with_variable_theta(a=-1,b=2)\n",
    "print(weight)\n",
    "# [0.26339982 0.19102125 0.54557893]"
   ]
  },
  {
   "cell_type": "code",
   "execution_count": 16,
   "id": "05752222",
   "metadata": {},
   "outputs": [
    {
     "name": "stdout",
     "output_type": "stream",
     "text": [
      "[ 0.53233682  0.51447136 -0.04680817]\n"
     ]
    }
   ],
   "source": [
    "weight = m.minimum_variance_risk_parity_extended_least_square(rho=1000, beta=0.01, tol=1e-6, itreation_max=100, a=-1,\n",
    "                                                           b=2)\n",
    "print(weight)\n",
    "#[ 0.53233682  0.51447136 -0.04680817]"
   ]
  }
 ],
 "metadata": {
  "kernelspec": {
   "display_name": "quant",
   "language": "python",
   "name": "quant"
  },
  "language_info": {
   "codemirror_mode": {
    "name": "ipython",
    "version": 3
   },
   "file_extension": ".py",
   "mimetype": "text/x-python",
   "name": "python",
   "nbconvert_exporter": "python",
   "pygments_lexer": "ipython3",
   "version": "3.8.2"
  }
 },
 "nbformat": 4,
 "nbformat_minor": 5
}
